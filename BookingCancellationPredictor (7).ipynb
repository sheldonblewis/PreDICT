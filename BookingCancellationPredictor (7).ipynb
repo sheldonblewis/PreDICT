{
 "cells": [
  {
   "cell_type": "code",
   "execution_count": 1,
   "id": "970048ab-714a-4f2c-8368-947f5ed28bd9",
   "metadata": {
    "tags": []
   },
   "outputs": [],
   "source": [
    "import pandas as pd"
   ]
  },
  {
   "cell_type": "code",
   "execution_count": 2,
   "id": "31bbc0fd-e91a-44dd-b66c-2eb0fd27ffd6",
   "metadata": {
    "tags": []
   },
   "outputs": [],
   "source": [
    "traindata = pd.read_excel('DataQuest Dataset.xlsx', sheet_name='train_data')"
   ]
  },
  {
   "cell_type": "code",
   "execution_count": 3,
   "id": "98de9309-f9db-46a1-aa58-fc85cac79308",
   "metadata": {
    "tags": []
   },
   "outputs": [],
   "source": [
    "testdata = pd.read_excel('DataQuest Dataset.xlsx', sheet_name='test_data')"
   ]
  },
  {
   "cell_type": "code",
   "execution_count": 4,
   "id": "d787684f-1416-47d2-bd96-0ab3cd1c94fb",
   "metadata": {
    "tags": []
   },
   "outputs": [
    {
     "data": {
      "text/html": [
       "<div>\n",
       "<style scoped>\n",
       "    .dataframe tbody tr th:only-of-type {\n",
       "        vertical-align: middle;\n",
       "    }\n",
       "\n",
       "    .dataframe tbody tr th {\n",
       "        vertical-align: top;\n",
       "    }\n",
       "\n",
       "    .dataframe thead th {\n",
       "        text-align: right;\n",
       "    }\n",
       "</style>\n",
       "<table border=\"1\" class=\"dataframe\">\n",
       "  <thead>\n",
       "    <tr style=\"text-align: right;\">\n",
       "      <th></th>\n",
       "      <th>BookingID</th>\n",
       "      <th>LeadTime</th>\n",
       "      <th>ArrivalYear</th>\n",
       "      <th>ArrivalMonth</th>\n",
       "      <th>ArrivalDate</th>\n",
       "      <th>NumWeekendNights</th>\n",
       "      <th>NumWeekNights</th>\n",
       "      <th>MealPlan</th>\n",
       "      <th>Parking</th>\n",
       "      <th>RoomType</th>\n",
       "      <th>NumAdults</th>\n",
       "      <th>NumChildren</th>\n",
       "      <th>MarketSegment</th>\n",
       "      <th>RepeatedGuest</th>\n",
       "      <th>NumPrevCancellations</th>\n",
       "      <th>NumPreviousNonCancelled</th>\n",
       "      <th>AvgRoomPrice</th>\n",
       "      <th>SpecialRequests</th>\n",
       "      <th>BookingStatus</th>\n",
       "    </tr>\n",
       "  </thead>\n",
       "  <tbody>\n",
       "    <tr>\n",
       "      <th>0</th>\n",
       "      <td>1</td>\n",
       "      <td>10</td>\n",
       "      <td>2018</td>\n",
       "      <td>3</td>\n",
       "      <td>31</td>\n",
       "      <td>0</td>\n",
       "      <td>1</td>\n",
       "      <td>Meal Plan 1</td>\n",
       "      <td>0</td>\n",
       "      <td>Room_Type 1</td>\n",
       "      <td>1</td>\n",
       "      <td>0</td>\n",
       "      <td>Corporate</td>\n",
       "      <td>0</td>\n",
       "      <td>0</td>\n",
       "      <td>0</td>\n",
       "      <td>95.00</td>\n",
       "      <td>0</td>\n",
       "      <td>Canceled</td>\n",
       "    </tr>\n",
       "    <tr>\n",
       "      <th>1</th>\n",
       "      <td>2</td>\n",
       "      <td>116</td>\n",
       "      <td>2018</td>\n",
       "      <td>2</td>\n",
       "      <td>28</td>\n",
       "      <td>2</td>\n",
       "      <td>1</td>\n",
       "      <td>Meal Plan 1</td>\n",
       "      <td>0</td>\n",
       "      <td>Room_Type 1</td>\n",
       "      <td>1</td>\n",
       "      <td>0</td>\n",
       "      <td>Online</td>\n",
       "      <td>0</td>\n",
       "      <td>0</td>\n",
       "      <td>0</td>\n",
       "      <td>61.00</td>\n",
       "      <td>0</td>\n",
       "      <td>Canceled</td>\n",
       "    </tr>\n",
       "    <tr>\n",
       "      <th>2</th>\n",
       "      <td>3</td>\n",
       "      <td>11</td>\n",
       "      <td>2018</td>\n",
       "      <td>7</td>\n",
       "      <td>25</td>\n",
       "      <td>1</td>\n",
       "      <td>2</td>\n",
       "      <td>Meal Plan 1</td>\n",
       "      <td>0</td>\n",
       "      <td>Room_Type 1</td>\n",
       "      <td>2</td>\n",
       "      <td>1</td>\n",
       "      <td>Online</td>\n",
       "      <td>0</td>\n",
       "      <td>0</td>\n",
       "      <td>0</td>\n",
       "      <td>129.75</td>\n",
       "      <td>1</td>\n",
       "      <td>Not_Canceled</td>\n",
       "    </tr>\n",
       "    <tr>\n",
       "      <th>3</th>\n",
       "      <td>4</td>\n",
       "      <td>3</td>\n",
       "      <td>2017</td>\n",
       "      <td>9</td>\n",
       "      <td>12</td>\n",
       "      <td>0</td>\n",
       "      <td>1</td>\n",
       "      <td>Meal Plan 1</td>\n",
       "      <td>0</td>\n",
       "      <td>Room_Type 1</td>\n",
       "      <td>2</td>\n",
       "      <td>0</td>\n",
       "      <td>Online</td>\n",
       "      <td>0</td>\n",
       "      <td>0</td>\n",
       "      <td>0</td>\n",
       "      <td>152.00</td>\n",
       "      <td>3</td>\n",
       "      <td>Not_Canceled</td>\n",
       "    </tr>\n",
       "    <tr>\n",
       "      <th>4</th>\n",
       "      <td>5</td>\n",
       "      <td>28</td>\n",
       "      <td>2018</td>\n",
       "      <td>3</td>\n",
       "      <td>7</td>\n",
       "      <td>1</td>\n",
       "      <td>3</td>\n",
       "      <td>Meal Plan 1</td>\n",
       "      <td>0</td>\n",
       "      <td>Room_Type 1</td>\n",
       "      <td>2</td>\n",
       "      <td>0</td>\n",
       "      <td>Offline</td>\n",
       "      <td>0</td>\n",
       "      <td>0</td>\n",
       "      <td>0</td>\n",
       "      <td>87.00</td>\n",
       "      <td>0</td>\n",
       "      <td>Not_Canceled</td>\n",
       "    </tr>\n",
       "    <tr>\n",
       "      <th>...</th>\n",
       "      <td>...</td>\n",
       "      <td>...</td>\n",
       "      <td>...</td>\n",
       "      <td>...</td>\n",
       "      <td>...</td>\n",
       "      <td>...</td>\n",
       "      <td>...</td>\n",
       "      <td>...</td>\n",
       "      <td>...</td>\n",
       "      <td>...</td>\n",
       "      <td>...</td>\n",
       "      <td>...</td>\n",
       "      <td>...</td>\n",
       "      <td>...</td>\n",
       "      <td>...</td>\n",
       "      <td>...</td>\n",
       "      <td>...</td>\n",
       "      <td>...</td>\n",
       "      <td>...</td>\n",
       "    </tr>\n",
       "    <tr>\n",
       "      <th>29015</th>\n",
       "      <td>29016</td>\n",
       "      <td>2</td>\n",
       "      <td>2018</td>\n",
       "      <td>11</td>\n",
       "      <td>21</td>\n",
       "      <td>1</td>\n",
       "      <td>2</td>\n",
       "      <td>Meal Plan 1</td>\n",
       "      <td>0</td>\n",
       "      <td>Room_Type 1</td>\n",
       "      <td>1</td>\n",
       "      <td>0</td>\n",
       "      <td>Online</td>\n",
       "      <td>0</td>\n",
       "      <td>0</td>\n",
       "      <td>0</td>\n",
       "      <td>100.67</td>\n",
       "      <td>1</td>\n",
       "      <td>Not_Canceled</td>\n",
       "    </tr>\n",
       "    <tr>\n",
       "      <th>29016</th>\n",
       "      <td>29017</td>\n",
       "      <td>18</td>\n",
       "      <td>2018</td>\n",
       "      <td>4</td>\n",
       "      <td>12</td>\n",
       "      <td>0</td>\n",
       "      <td>2</td>\n",
       "      <td>Not Selected</td>\n",
       "      <td>0</td>\n",
       "      <td>Room_Type 1</td>\n",
       "      <td>2</td>\n",
       "      <td>0</td>\n",
       "      <td>Online</td>\n",
       "      <td>0</td>\n",
       "      <td>0</td>\n",
       "      <td>0</td>\n",
       "      <td>119.00</td>\n",
       "      <td>1</td>\n",
       "      <td>Not_Canceled</td>\n",
       "    </tr>\n",
       "    <tr>\n",
       "      <th>29017</th>\n",
       "      <td>29018</td>\n",
       "      <td>8</td>\n",
       "      <td>2017</td>\n",
       "      <td>9</td>\n",
       "      <td>29</td>\n",
       "      <td>0</td>\n",
       "      <td>3</td>\n",
       "      <td>Meal Plan 1</td>\n",
       "      <td>0</td>\n",
       "      <td>Room_Type 1</td>\n",
       "      <td>1</td>\n",
       "      <td>0</td>\n",
       "      <td>Corporate</td>\n",
       "      <td>0</td>\n",
       "      <td>0</td>\n",
       "      <td>0</td>\n",
       "      <td>65.00</td>\n",
       "      <td>0</td>\n",
       "      <td>Not_Canceled</td>\n",
       "    </tr>\n",
       "    <tr>\n",
       "      <th>29018</th>\n",
       "      <td>29019</td>\n",
       "      <td>20</td>\n",
       "      <td>2018</td>\n",
       "      <td>9</td>\n",
       "      <td>18</td>\n",
       "      <td>2</td>\n",
       "      <td>2</td>\n",
       "      <td>Meal Plan 1</td>\n",
       "      <td>0</td>\n",
       "      <td>Room_Type 1</td>\n",
       "      <td>1</td>\n",
       "      <td>0</td>\n",
       "      <td>Offline</td>\n",
       "      <td>0</td>\n",
       "      <td>0</td>\n",
       "      <td>0</td>\n",
       "      <td>90.00</td>\n",
       "      <td>0</td>\n",
       "      <td>Canceled</td>\n",
       "    </tr>\n",
       "    <tr>\n",
       "      <th>29019</th>\n",
       "      <td>29020</td>\n",
       "      <td>274</td>\n",
       "      <td>2018</td>\n",
       "      <td>7</td>\n",
       "      <td>31</td>\n",
       "      <td>2</td>\n",
       "      <td>1</td>\n",
       "      <td>Meal Plan 1</td>\n",
       "      <td>0</td>\n",
       "      <td>Room_Type 2</td>\n",
       "      <td>2</td>\n",
       "      <td>0</td>\n",
       "      <td>Online</td>\n",
       "      <td>0</td>\n",
       "      <td>0</td>\n",
       "      <td>0</td>\n",
       "      <td>96.50</td>\n",
       "      <td>1</td>\n",
       "      <td>Not_Canceled</td>\n",
       "    </tr>\n",
       "  </tbody>\n",
       "</table>\n",
       "<p>29020 rows × 19 columns</p>\n",
       "</div>"
      ],
      "text/plain": [
       "       BookingID  LeadTime  ArrivalYear  ArrivalMonth  ArrivalDate  \\\n",
       "0              1        10         2018             3           31   \n",
       "1              2       116         2018             2           28   \n",
       "2              3        11         2018             7           25   \n",
       "3              4         3         2017             9           12   \n",
       "4              5        28         2018             3            7   \n",
       "...          ...       ...          ...           ...          ...   \n",
       "29015      29016         2         2018            11           21   \n",
       "29016      29017        18         2018             4           12   \n",
       "29017      29018         8         2017             9           29   \n",
       "29018      29019        20         2018             9           18   \n",
       "29019      29020       274         2018             7           31   \n",
       "\n",
       "       NumWeekendNights  NumWeekNights      MealPlan  Parking     RoomType  \\\n",
       "0                     0              1   Meal Plan 1        0  Room_Type 1   \n",
       "1                     2              1   Meal Plan 1        0  Room_Type 1   \n",
       "2                     1              2   Meal Plan 1        0  Room_Type 1   \n",
       "3                     0              1   Meal Plan 1        0  Room_Type 1   \n",
       "4                     1              3   Meal Plan 1        0  Room_Type 1   \n",
       "...                 ...            ...           ...      ...          ...   \n",
       "29015                 1              2   Meal Plan 1        0  Room_Type 1   \n",
       "29016                 0              2  Not Selected        0  Room_Type 1   \n",
       "29017                 0              3   Meal Plan 1        0  Room_Type 1   \n",
       "29018                 2              2   Meal Plan 1        0  Room_Type 1   \n",
       "29019                 2              1   Meal Plan 1        0  Room_Type 2   \n",
       "\n",
       "       NumAdults  NumChildren MarketSegment  RepeatedGuest  \\\n",
       "0              1            0     Corporate              0   \n",
       "1              1            0        Online              0   \n",
       "2              2            1        Online              0   \n",
       "3              2            0        Online              0   \n",
       "4              2            0       Offline              0   \n",
       "...          ...          ...           ...            ...   \n",
       "29015          1            0        Online              0   \n",
       "29016          2            0        Online              0   \n",
       "29017          1            0     Corporate              0   \n",
       "29018          1            0       Offline              0   \n",
       "29019          2            0        Online              0   \n",
       "\n",
       "       NumPrevCancellations  NumPreviousNonCancelled  AvgRoomPrice  \\\n",
       "0                         0                        0         95.00   \n",
       "1                         0                        0         61.00   \n",
       "2                         0                        0        129.75   \n",
       "3                         0                        0        152.00   \n",
       "4                         0                        0         87.00   \n",
       "...                     ...                      ...           ...   \n",
       "29015                     0                        0        100.67   \n",
       "29016                     0                        0        119.00   \n",
       "29017                     0                        0         65.00   \n",
       "29018                     0                        0         90.00   \n",
       "29019                     0                        0         96.50   \n",
       "\n",
       "       SpecialRequests BookingStatus  \n",
       "0                    0      Canceled  \n",
       "1                    0      Canceled  \n",
       "2                    1  Not_Canceled  \n",
       "3                    3  Not_Canceled  \n",
       "4                    0  Not_Canceled  \n",
       "...                ...           ...  \n",
       "29015                1  Not_Canceled  \n",
       "29016                1  Not_Canceled  \n",
       "29017                0  Not_Canceled  \n",
       "29018                0      Canceled  \n",
       "29019                1  Not_Canceled  \n",
       "\n",
       "[29020 rows x 19 columns]"
      ]
     },
     "execution_count": 4,
     "metadata": {},
     "output_type": "execute_result"
    }
   ],
   "source": [
    "traindata"
   ]
  },
  {
   "cell_type": "code",
   "execution_count": 5,
   "id": "a043271a-079a-4aed-be20-60a905c8383c",
   "metadata": {
    "tags": []
   },
   "outputs": [],
   "source": [
    "traindata['MealPlan'] = traindata[\"MealPlan\"].replace('Meal Plan 1', 1)\n",
    "traindata['MealPlan'] = traindata[\"MealPlan\"].replace('Meal Plan 2', 2)\n",
    "traindata['MealPlan'] = traindata[\"MealPlan\"].replace('Meal Plan 3', 1)\n",
    "traindata['MealPlan'] = traindata[\"MealPlan\"].replace('Not Selected', 0)"
   ]
  },
  {
   "cell_type": "code",
   "execution_count": 6,
   "id": "d3fd9e83-ec7a-4943-b5ec-af7772e08834",
   "metadata": {},
   "outputs": [],
   "source": [
    "testdata['MealPlan'] = testdata[\"MealPlan\"].replace('Meal Plan 1', 1)\n",
    "testdata['MealPlan'] = testdata[\"MealPlan\"].replace('Meal Plan 2', 2)\n",
    "testdata['MealPlan'] = testdata[\"MealPlan\"].replace('Meal Plan 3', 1)\n",
    "testdata['MealPlan'] = testdata[\"MealPlan\"].replace('Not Selected', 0)"
   ]
  },
  {
   "cell_type": "code",
   "execution_count": 7,
   "id": "f0d8cbc4-5198-462c-9f24-934d01939e11",
   "metadata": {
    "tags": []
   },
   "outputs": [],
   "source": [
    "traindata['RoomType'] = traindata[\"RoomType\"].replace('Room_Type 1', 1)\n",
    "traindata['RoomType'] = traindata[\"RoomType\"].replace('Room_Type 2', 2)\n",
    "traindata['RoomType'] = traindata[\"RoomType\"].replace('Room_Type 3', 3)\n",
    "traindata['RoomType'] = traindata[\"RoomType\"].replace('Room_Type 4', 4)\n",
    "traindata['RoomType'] = traindata[\"RoomType\"].replace('Room_Type 5', 5)\n",
    "traindata['RoomType'] = traindata[\"RoomType\"].replace('Room_Type 6', 6)\n",
    "traindata['RoomType'] = traindata[\"RoomType\"].replace('Room_Type 7', 7)"
   ]
  },
  {
   "cell_type": "code",
   "execution_count": 8,
   "id": "ffca4242-37ad-4eea-824b-ba887b5f4989",
   "metadata": {
    "tags": []
   },
   "outputs": [],
   "source": [
    "testdata['RoomType'] = testdata[\"RoomType\"].replace('Room_Type 1', 1)\n",
    "testdata['RoomType'] = testdata[\"RoomType\"].replace('Room_Type 2', 2)\n",
    "testdata['RoomType'] = testdata[\"RoomType\"].replace('Room_Type 3', 3)\n",
    "testdata['RoomType'] = testdata[\"RoomType\"].replace('Room_Type 4', 4)\n",
    "testdata['RoomType'] = testdata[\"RoomType\"].replace('Room_Type 5', 5)\n",
    "testdata['RoomType'] = testdata[\"RoomType\"].replace('Room_Type 6', 6)\n",
    "testdata['RoomType'] = testdata[\"RoomType\"].replace('Room_Type 7', 7)"
   ]
  },
  {
   "cell_type": "code",
   "execution_count": 9,
   "id": "4017b163-49ad-4d64-bb6f-7a0cf6f366b7",
   "metadata": {
    "tags": []
   },
   "outputs": [],
   "source": [
    "traindata['MarketSegment'] = traindata[\"MarketSegment\"].replace('Online', 1)\n",
    "traindata['MarketSegment'] = traindata[\"MarketSegment\"].replace('Offline', 2)\n",
    "traindata['MarketSegment'] = traindata[\"MarketSegment\"].replace('Complementary', 3)\n",
    "traindata['MarketSegment'] = traindata[\"MarketSegment\"].replace('Corporate', 4)\n",
    "traindata['MarketSegment'] = traindata[\"MarketSegment\"].replace('Aviation', 5)"
   ]
  },
  {
   "cell_type": "code",
   "execution_count": 10,
   "id": "1c5c8bb6-ad9b-4c5c-8c73-5a46612b9260",
   "metadata": {
    "tags": []
   },
   "outputs": [],
   "source": [
    "testdata['MarketSegment'] = testdata[\"MarketSegment\"].replace('Online', 1)\n",
    "testdata['MarketSegment'] = testdata[\"MarketSegment\"].replace('Offline', 2)\n",
    "testdata['MarketSegment'] = testdata[\"MarketSegment\"].replace('Complementary', 3)\n",
    "testdata['MarketSegment'] = testdata[\"MarketSegment\"].replace('Corporate', 4)\n",
    "testdata['MarketSegment'] = testdata[\"MarketSegment\"].replace('Aviation', 5)"
   ]
  },
  {
   "cell_type": "code",
   "execution_count": 11,
   "id": "55a09c4f-3275-469d-bac0-067b456dd6f6",
   "metadata": {
    "tags": []
   },
   "outputs": [],
   "source": [
    "traindata['ArrivalYear'] = traindata[\"ArrivalYear\"].replace('2017', 0)\n",
    "traindata['ArrivalYear'] = traindata[\"ArrivalYear\"].replace('2018', 1)"
   ]
  },
  {
   "cell_type": "code",
   "execution_count": 12,
   "id": "df955a86-98b2-4329-a7e2-51662ae9d168",
   "metadata": {
    "tags": []
   },
   "outputs": [],
   "source": [
    "testdata['ArrivalYear'] = testdata[\"ArrivalYear\"].replace('2017', 0)\n",
    "testdata['ArrivalYear'] = testdata[\"ArrivalYear\"].replace('2018', 1)"
   ]
  },
  {
   "cell_type": "code",
   "execution_count": 13,
   "id": "ca5de9c3-9c8d-4bf9-b2ce-4a164934f098",
   "metadata": {
    "tags": []
   },
   "outputs": [],
   "source": [
    "traindata['BookingStatus'] = traindata[\"BookingStatus\"].replace('Canceled', 1)\n",
    "traindata['BookingStatus'] = traindata[\"BookingStatus\"].replace('Not_Canceled', 0)"
   ]
  },
  {
   "cell_type": "code",
   "execution_count": 14,
   "id": "08fa8986-97ae-433b-80b0-9edb11963de8",
   "metadata": {
    "tags": []
   },
   "outputs": [],
   "source": [
    "traindata['FullDate'] = traindata['ArrivalYear'] * 365 + traindata['ArrivalMonth'] * 30 + traindata['ArrivalDate']"
   ]
  },
  {
   "cell_type": "code",
   "execution_count": 15,
   "id": "c7691eb5-7654-4c5d-a345-2008874df09a",
   "metadata": {
    "tags": []
   },
   "outputs": [],
   "source": [
    "testdata['FullDate'] = testdata['ArrivalYear'] * 365 + testdata['ArrivalMonth'] * 30 + testdata['ArrivalDate']"
   ]
  },
  {
   "cell_type": "code",
   "execution_count": 16,
   "id": "356c225f-dfe1-4a26-aaf4-e9156b92cfff",
   "metadata": {
    "tags": []
   },
   "outputs": [],
   "source": [
    "traindata['TotalPrice'] = (traindata['NumWeekendNights']+traindata['NumWeekNights']) * traindata['AvgRoomPrice']"
   ]
  },
  {
   "cell_type": "code",
   "execution_count": 17,
   "id": "41cca3e0-c855-463f-abb1-12f1ca0c0e7c",
   "metadata": {
    "tags": []
   },
   "outputs": [],
   "source": [
    "testdata['TotalPrice'] = (testdata['NumWeekendNights']+testdata['NumWeekNights']) * testdata['AvgRoomPrice']"
   ]
  },
  {
   "cell_type": "code",
   "execution_count": 18,
   "id": "078caf60-fdb1-401c-8587-626dd9cbd4bf",
   "metadata": {
    "tags": []
   },
   "outputs": [],
   "source": [
    "traindata['PrepEffort'] = (traindata['NumWeekendNights'] + traindata['NumWeekNights']) * traindata['LeadTime']"
   ]
  },
  {
   "cell_type": "code",
   "execution_count": 19,
   "id": "671480f6-fe4a-48d0-a221-2b9c8406509d",
   "metadata": {
    "tags": []
   },
   "outputs": [],
   "source": [
    "testdata['PrepEffort'] = (testdata['NumWeekendNights'] + testdata['NumWeekNights']) * testdata['LeadTime']"
   ]
  },
  {
   "cell_type": "code",
   "execution_count": 20,
   "id": "7b055aad-3911-4d1a-b82f-4b0200f4c1b2",
   "metadata": {
    "tags": []
   },
   "outputs": [],
   "source": [
    "traindata['TotalPeople'] = traindata['NumAdults'] + traindata['NumChildren']"
   ]
  },
  {
   "cell_type": "code",
   "execution_count": 21,
   "id": "405cf986-4984-4d5d-8b23-23336bb3528c",
   "metadata": {
    "tags": []
   },
   "outputs": [],
   "source": [
    "testdata['TotalPeople'] = testdata['NumAdults'] + testdata['NumChildren']"
   ]
  },
  {
   "cell_type": "code",
   "execution_count": 22,
   "id": "49665916-f4f2-4cc0-9f34-8db518b69bc1",
   "metadata": {},
   "outputs": [],
   "source": [
    "traindata['Holiday'] = [1 if x == 7 or x == 8 or x == 12 else 0 for x in traindata['ArrivalMonth']]"
   ]
  },
  {
   "cell_type": "code",
   "execution_count": 23,
   "id": "8db24747-b18a-41a6-9bbb-9339196b1268",
   "metadata": {},
   "outputs": [],
   "source": [
    "testdata['Holiday'] = [1 if x == 7 or x == 8 or x == 12 else 0 for x in testdata['ArrivalMonth']]"
   ]
  },
  {
   "cell_type": "code",
   "execution_count": 24,
   "id": "e14b0ff3-d891-422f-93f5-889a4bd7e76f",
   "metadata": {
    "tags": []
   },
   "outputs": [],
   "source": [
    "#traindata['YieldPerc'] = [0 if x+y == 0 else (x-y)/(x+y) for x in traindata['NumPreviousNonCancelled'] and y in traindata['NumPrevCancellations']]"
   ]
  },
  {
   "cell_type": "code",
   "execution_count": 25,
   "id": "1e837e56-df71-409d-a8f8-c16621a7ac21",
   "metadata": {
    "tags": []
   },
   "outputs": [],
   "source": [
    "#testdata['YieldPerc'] = [0 if x == 0 and y == 0 else (x-y)/(x+y) for x in traindata['NumPreviousNonCancelled'] and y in traindata['NumPrevCancellations']]"
   ]
  },
  {
   "cell_type": "code",
   "execution_count": 26,
   "id": "8782dbe5-e28e-4479-92fa-bcd07d9c58a0",
   "metadata": {
    "tags": []
   },
   "outputs": [],
   "source": [
    "from sklearn.preprocessing import MinMaxScaler\n",
    "scaler = MinMaxScaler()\n",
    "scaler.fit(traindata)\n",
    "traindata = pd.DataFrame(scaler.transform(traindata), columns=traindata.columns)"
   ]
  },
  {
   "cell_type": "code",
   "execution_count": 27,
   "id": "0c344cc8-c210-4155-ab89-2a974956e383",
   "metadata": {
    "tags": []
   },
   "outputs": [
    {
     "data": {
      "text/html": [
       "<style>#sk-container-id-1 {color: black;background-color: white;}#sk-container-id-1 pre{padding: 0;}#sk-container-id-1 div.sk-toggleable {background-color: white;}#sk-container-id-1 label.sk-toggleable__label {cursor: pointer;display: block;width: 100%;margin-bottom: 0;padding: 0.3em;box-sizing: border-box;text-align: center;}#sk-container-id-1 label.sk-toggleable__label-arrow:before {content: \"▸\";float: left;margin-right: 0.25em;color: #696969;}#sk-container-id-1 label.sk-toggleable__label-arrow:hover:before {color: black;}#sk-container-id-1 div.sk-estimator:hover label.sk-toggleable__label-arrow:before {color: black;}#sk-container-id-1 div.sk-toggleable__content {max-height: 0;max-width: 0;overflow: hidden;text-align: left;background-color: #f0f8ff;}#sk-container-id-1 div.sk-toggleable__content pre {margin: 0.2em;color: black;border-radius: 0.25em;background-color: #f0f8ff;}#sk-container-id-1 input.sk-toggleable__control:checked~div.sk-toggleable__content {max-height: 200px;max-width: 100%;overflow: auto;}#sk-container-id-1 input.sk-toggleable__control:checked~label.sk-toggleable__label-arrow:before {content: \"▾\";}#sk-container-id-1 div.sk-estimator input.sk-toggleable__control:checked~label.sk-toggleable__label {background-color: #d4ebff;}#sk-container-id-1 div.sk-label input.sk-toggleable__control:checked~label.sk-toggleable__label {background-color: #d4ebff;}#sk-container-id-1 input.sk-hidden--visually {border: 0;clip: rect(1px 1px 1px 1px);clip: rect(1px, 1px, 1px, 1px);height: 1px;margin: -1px;overflow: hidden;padding: 0;position: absolute;width: 1px;}#sk-container-id-1 div.sk-estimator {font-family: monospace;background-color: #f0f8ff;border: 1px dotted black;border-radius: 0.25em;box-sizing: border-box;margin-bottom: 0.5em;}#sk-container-id-1 div.sk-estimator:hover {background-color: #d4ebff;}#sk-container-id-1 div.sk-parallel-item::after {content: \"\";width: 100%;border-bottom: 1px solid gray;flex-grow: 1;}#sk-container-id-1 div.sk-label:hover label.sk-toggleable__label {background-color: #d4ebff;}#sk-container-id-1 div.sk-serial::before {content: \"\";position: absolute;border-left: 1px solid gray;box-sizing: border-box;top: 0;bottom: 0;left: 50%;z-index: 0;}#sk-container-id-1 div.sk-serial {display: flex;flex-direction: column;align-items: center;background-color: white;padding-right: 0.2em;padding-left: 0.2em;position: relative;}#sk-container-id-1 div.sk-item {position: relative;z-index: 1;}#sk-container-id-1 div.sk-parallel {display: flex;align-items: stretch;justify-content: center;background-color: white;position: relative;}#sk-container-id-1 div.sk-item::before, #sk-container-id-1 div.sk-parallel-item::before {content: \"\";position: absolute;border-left: 1px solid gray;box-sizing: border-box;top: 0;bottom: 0;left: 50%;z-index: -1;}#sk-container-id-1 div.sk-parallel-item {display: flex;flex-direction: column;z-index: 1;position: relative;background-color: white;}#sk-container-id-1 div.sk-parallel-item:first-child::after {align-self: flex-end;width: 50%;}#sk-container-id-1 div.sk-parallel-item:last-child::after {align-self: flex-start;width: 50%;}#sk-container-id-1 div.sk-parallel-item:only-child::after {width: 0;}#sk-container-id-1 div.sk-dashed-wrapped {border: 1px dashed gray;margin: 0 0.4em 0.5em 0.4em;box-sizing: border-box;padding-bottom: 0.4em;background-color: white;}#sk-container-id-1 div.sk-label label {font-family: monospace;font-weight: bold;display: inline-block;line-height: 1.2em;}#sk-container-id-1 div.sk-label-container {text-align: center;}#sk-container-id-1 div.sk-container {/* jupyter's `normalize.less` sets `[hidden] { display: none; }` but bootstrap.min.css set `[hidden] { display: none !important; }` so we also need the `!important` here to be able to override the default hidden behavior on the sphinx rendered scikit-learn.org. See: https://github.com/scikit-learn/scikit-learn/issues/21755 */display: inline-block !important;position: relative;}#sk-container-id-1 div.sk-text-repr-fallback {display: none;}</style><div id=\"sk-container-id-1\" class=\"sk-top-container\"><div class=\"sk-text-repr-fallback\"><pre>RandomForestClassifier(n_estimators=500, random_state=1)</pre><b>In a Jupyter environment, please rerun this cell to show the HTML representation or trust the notebook. <br />On GitHub, the HTML representation is unable to render, please try loading this page with nbviewer.org.</b></div><div class=\"sk-container\" hidden><div class=\"sk-item\"><div class=\"sk-estimator sk-toggleable\"><input class=\"sk-toggleable__control sk-hidden--visually\" id=\"sk-estimator-id-1\" type=\"checkbox\" checked><label for=\"sk-estimator-id-1\" class=\"sk-toggleable__label sk-toggleable__label-arrow\">RandomForestClassifier</label><div class=\"sk-toggleable__content\"><pre>RandomForestClassifier(n_estimators=500, random_state=1)</pre></div></div></div></div></div>"
      ],
      "text/plain": [
       "RandomForestClassifier(n_estimators=500, random_state=1)"
      ]
     },
     "execution_count": 27,
     "metadata": {},
     "output_type": "execute_result"
    }
   ],
   "source": [
    "from sklearn.ensemble import RandomForestClassifier\n",
    "\n",
    "model = RandomForestClassifier(n_estimators=500, random_state=1)\n",
    "\n",
    "train = traindata\n",
    "test = testdata\n",
    "#train = traindata.iloc[:-6000]\n",
    "#test = traindata.iloc[-6000:]\n",
    "\n",
    "predictors = [\"LeadTime\", \"AvgRoomPrice\", \"NumWeekendNights\", \"NumWeekNights\", \"MealPlan\", \"Parking\", \"RoomType\", \"NumAdults\", \"NumChildren\", \"MarketSegment\", \"NumPrevCancellations\", \"NumPreviousNonCancelled\", \"SpecialRequests\", \"RepeatedGuest\", \"PrepEffort\", \"TotalPrice\", \"FullDate\"]\n",
    "model.fit(train[predictors], train[\"BookingStatus\"])\n",
    "\n",
    "#5-fold training\n",
    "#train to optimize precision"
   ]
  },
  {
   "cell_type": "code",
   "execution_count": 28,
   "id": "90c026d5-5fd9-4fe3-8f2b-11722ec2ef7b",
   "metadata": {
    "tags": []
   },
   "outputs": [
    {
     "name": "stdout",
     "output_type": "stream",
     "text": [
      "1. feature 0 (0.219530)\n",
      "2. feature 14 (0.148653)\n",
      "3. feature 16 (0.142809)\n",
      "4. feature 1 (0.122716)\n",
      "5. feature 12 (0.098285)\n",
      "6. feature 15 (0.095582)\n",
      "7. feature 9 (0.052318)\n",
      "8. feature 3 (0.030488)\n",
      "9. feature 2 (0.024548)\n",
      "10. feature 7 (0.020316)\n",
      "11. feature 4 (0.017754)\n",
      "12. feature 6 (0.013055)\n",
      "13. feature 8 (0.006140)\n",
      "14. feature 5 (0.005544)\n",
      "15. feature 13 (0.001219)\n",
      "16. feature 11 (0.000837)\n",
      "17. feature 10 (0.000205)\n"
     ]
    }
   ],
   "source": [
    "importances = model.feature_importances_\n",
    "\n",
    "import numpy as np\n",
    "\n",
    "indices = np.argsort(importances)[::-1]\n",
    "for f in range(train[predictors].shape[1]):\n",
    "    print(\"%d. feature %d (%f)\" % (f + 1, indices[f], importances[indices[f]]))"
   ]
  },
  {
   "cell_type": "code",
   "execution_count": 29,
   "id": "35816c18-bb88-43db-b850-8f40e465af84",
   "metadata": {
    "tags": []
   },
   "outputs": [],
   "source": [
    "#weighting of longer/shorter stays"
   ]
  },
  {
   "cell_type": "code",
   "execution_count": 30,
   "id": "26ccbb97-d320-4caa-bf56-6e5b0dfb663c",
   "metadata": {
    "tags": []
   },
   "outputs": [],
   "source": [
    "RFpreds = model.predict(test[predictors])\n",
    "RFprobs = model.predict_proba(test[predictors])[:, 1]"
   ]
  },
  {
   "cell_type": "code",
   "execution_count": 31,
   "id": "0a3f9dd1-a45c-4b96-a4c8-039926987bfa",
   "metadata": {
    "tags": []
   },
   "outputs": [],
   "source": [
    "RFpreds = pd.Series(RFpreds, index=test.index)"
   ]
  },
  {
   "cell_type": "code",
   "execution_count": 32,
   "id": "7ef455fe-21fc-4411-936f-2e49d69092de",
   "metadata": {
    "tags": []
   },
   "outputs": [
    {
     "data": {
      "text/plain": [
       "0       0.0\n",
       "1       0.0\n",
       "2       0.0\n",
       "3       0.0\n",
       "4       0.0\n",
       "       ... \n",
       "7250    0.0\n",
       "7251    0.0\n",
       "7252    0.0\n",
       "7253    0.0\n",
       "7254    0.0\n",
       "Length: 7255, dtype: float64"
      ]
     },
     "execution_count": 32,
     "metadata": {},
     "output_type": "execute_result"
    }
   ],
   "source": [
    "RFpreds"
   ]
  },
  {
   "cell_type": "code",
   "execution_count": 33,
   "id": "2ce25aaa-ffee-467b-89ed-df6a01cc2f1b",
   "metadata": {
    "tags": []
   },
   "outputs": [],
   "source": [
    "import xgboost as xgb\n",
    "model = xgb.XGBClassifier(learning_rate=0.05, max_depth=45, n_estimators=100)\n",
    "model.fit(train[predictors], train[\"BookingStatus\"])\n",
    "XGBpreds = model.predict(test[predictors])\n",
    "XGBprobs = model.predict_proba(test[predictors])[:, 1]"
   ]
  },
  {
   "cell_type": "code",
   "execution_count": 34,
   "id": "030831e6-4931-43eb-9167-d35401dc1ccb",
   "metadata": {
    "tags": []
   },
   "outputs": [],
   "source": [
    "import catboost as cb\n",
    "model = cb.CatBoostClassifier(iterations=200, learning_rate=0.1, depth=6, loss_function='Logloss')\n",
    "model.fit(train[predictors], train[\"BookingStatus\"], verbose=False)\n",
    "CBpreds = model.predict(test[predictors])\n",
    "CBprobs = model.predict_proba(test[predictors])[:, 1]"
   ]
  },
  {
   "cell_type": "code",
   "execution_count": 36,
   "id": "66c36bfc-9b5d-4d35-a782-fbb36b4c03ee",
   "metadata": {
    "tags": []
   },
   "outputs": [],
   "source": [
    "preds = pd.DataFrame(RFpreds)\n",
    "preds['XGBpreds'] = XGBpreds\n",
    "preds['CBpreds'] = CBpreds"
   ]
  },
  {
   "cell_type": "code",
   "execution_count": 37,
   "id": "8c540ad9-39d4-45e6-93ef-8ec2d92a9fef",
   "metadata": {
    "tags": []
   },
   "outputs": [],
   "source": [
    "probs = pd.DataFrame(RFprobs)\n",
    "probs['XGBprobs'] = XGBprobs\n",
    "probs['CBprobs'] = CBprobs"
   ]
  },
  {
   "cell_type": "code",
   "execution_count": 38,
   "id": "1d57050a-595f-4b80-821a-22f28de661ef",
   "metadata": {
    "tags": []
   },
   "outputs": [],
   "source": [
    "preds['avg'] = (preds[0] + preds['XGBpreds'] + preds['CBpreds'])/3\n",
    "preds['avg'] = preds['avg'].round(0)"
   ]
  },
  {
   "cell_type": "code",
   "execution_count": 39,
   "id": "c6472747-9010-4de6-acbd-daa431d5b119",
   "metadata": {
    "tags": []
   },
   "outputs": [],
   "source": [
    "probs['avg'] = (probs[0] + probs['XGBprobs'] + probs['CBprobs'])/3\n",
    "probs['avg'] = probs['avg'].round(0)"
   ]
  },
  {
   "cell_type": "code",
   "execution_count": 40,
   "id": "710ddc3f-6643-4abb-b36e-d1b3ac950798",
   "metadata": {
    "tags": []
   },
   "outputs": [],
   "source": [
    "#from sklearn.metrics import precision_score\n",
    "#precision_score(test[\"BookingStatus\"], preds['avg'])"
   ]
  },
  {
   "cell_type": "code",
   "execution_count": 41,
   "id": "1eae0b59-750c-4934-b932-eb1b55f16454",
   "metadata": {
    "tags": []
   },
   "outputs": [],
   "source": [
    "#from sklearn.metrics import f1_score\n",
    "#f1_score(test[\"BookingStatus\"], preds['avg'])"
   ]
  },
  {
   "cell_type": "code",
   "execution_count": 42,
   "id": "86860b11-b725-49e3-aa51-e8b5cc3451e9",
   "metadata": {
    "tags": []
   },
   "outputs": [],
   "source": [
    "#from sklearn.metrics import accuracy_score\n",
    "#accuracy_score(test[\"BookingStatus\"], preds['avg'])"
   ]
  },
  {
   "cell_type": "code",
   "execution_count": 43,
   "id": "dc82cb2c-360f-4e19-af03-cf1b764378b6",
   "metadata": {
    "tags": []
   },
   "outputs": [],
   "source": [
    "preds = preds.replace(1, 'Canceled')\n",
    "preds = preds.replace(0, 'Not_Canceled')\n",
    "\n",
    "preds.to_excel('PredictedStatuses.xlsx')\n",
    "probs.to_excel('Probabilities.xlsx')"
   ]
  }
 ],
 "metadata": {
  "kernelspec": {
   "display_name": "Python 3 (ipykernel)",
   "language": "python",
   "name": "python3"
  },
  "language_info": {
   "codemirror_mode": {
    "name": "ipython",
    "version": 3
   },
   "file_extension": ".py",
   "mimetype": "text/x-python",
   "name": "python",
   "nbconvert_exporter": "python",
   "pygments_lexer": "ipython3",
   "version": "3.10.10"
  }
 },
 "nbformat": 4,
 "nbformat_minor": 5
}
